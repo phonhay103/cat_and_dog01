{
  "nbformat": 4,
  "nbformat_minor": 0,
  "metadata": {
    "colab": {
      "name": "B2.ipynb",
      "provenance": [],
      "collapsed_sections": [],
      "toc_visible": true,
      "mount_file_id": "13sbCHt_uGN8c2vDgWX7Bob3COTePHqiI",
      "authorship_tag": "ABX9TyNFBDQn7MNq/X3eresndpQW"
    },
    "kernelspec": {
      "name": "python3",
      "display_name": "Python 3"
    },
    "accelerator": "GPU"
  },
  "cells": [
    {
      "cell_type": "code",
      "metadata": {
        "id": "51CDvBXAB_oZ"
      },
      "source": [
        "import tensorflow as tf\n",
        "import matplotlib.pyplot as plt"
      ],
      "execution_count": null,
      "outputs": []
    },
    {
      "cell_type": "code",
      "metadata": {
        "id": "aWYoSwMmIVDF"
      },
      "source": [
        "data = './'"
      ],
      "execution_count": null,
      "outputs": []
    },
    {
      "cell_type": "code",
      "metadata": {
        "id": "uYKicRJxDvlm",
        "colab": {
          "base_uri": "https://localhost:8080/"
        },
        "outputId": "2b85ac15-26b9-4692-8f0d-f7828ac331ae"
      },
      "source": [
        "!pip install wget\n",
        "import wget\n",
        "link = 'https://d17h27t6h515a5.cloudfront.net/topher/2017/February/5898cd6f_traffic-signs-data/traffic-signs-data.zip'\n",
        "wget.download(link)\n",
        "\n",
        "!unzip -q traffic-signs-data.zip -d $data"
      ],
      "execution_count": null,
      "outputs": [
        {
          "output_type": "stream",
          "text": [
            "Collecting wget\n",
            "  Downloading https://files.pythonhosted.org/packages/47/6a/62e288da7bcda82b935ff0c6cfe542970f04e29c756b0e147251b2fb251f/wget-3.2.zip\n",
            "Building wheels for collected packages: wget\n",
            "  Building wheel for wget (setup.py) ... \u001b[?25l\u001b[?25hdone\n",
            "  Created wheel for wget: filename=wget-3.2-cp36-none-any.whl size=9682 sha256=0094cf573bce77cc7797ca5a712e21cd45c3555de06bf6f5cd440ec0fbc28dc0\n",
            "  Stored in directory: /root/.cache/pip/wheels/40/15/30/7d8f7cea2902b4db79e3fea550d7d7b85ecb27ef992b618f3f\n",
            "Successfully built wget\n",
            "Installing collected packages: wget\n",
            "Successfully installed wget-3.2\n"
          ],
          "name": "stdout"
        }
      ]
    },
    {
      "cell_type": "code",
      "metadata": {
        "id": "kQNtGJZEDy7N"
      },
      "source": [
        "import pickle\n",
        "\n",
        "train_link = data + 'train.p'\n",
        "valid_link = data + 'valid.p'\n",
        "test_link = data + 'test.p'\n",
        "\n",
        "with open(train_link, mode='rb') as f:\n",
        "    train = pickle.load(f)\n",
        "with open(valid_link, mode='rb') as f:\n",
        "    valid = pickle.load(f)\n",
        "with open(test_link, mode='rb') as f:\n",
        "    test = pickle.load(f)"
      ],
      "execution_count": null,
      "outputs": []
    },
    {
      "cell_type": "code",
      "metadata": {
        "id": "MwA81k8WFOwi"
      },
      "source": [
        "from sklearn.utils import shuffle\n",
        "\n",
        "train_X, train_y = shuffle(train['features'], train['labels'])\n",
        "valid_X, valid_y = valid['features'], valid['labels']\n",
        "test_X, test_y = test['features'], test['labels']"
      ],
      "execution_count": null,
      "outputs": []
    },
    {
      "cell_type": "code",
      "metadata": {
        "id": "9dPp8nfJM8lI",
        "colab": {
          "base_uri": "https://localhost:8080/"
        },
        "outputId": "4026f579-9a78-4269-d9bb-ac79200baa2a"
      },
      "source": [
        "train_X.shape"
      ],
      "execution_count": null,
      "outputs": [
        {
          "output_type": "execute_result",
          "data": {
            "text/plain": [
              "(34799, 32, 32, 3)"
            ]
          },
          "metadata": {
            "tags": []
          },
          "execution_count": 6
        }
      ]
    },
    {
      "cell_type": "code",
      "metadata": {
        "id": "GEwd-89oGScv"
      },
      "source": [
        "classNames = {0: 'Speed limit (20km/h)',\n",
        " 1: 'Speed limit (30km/h)',\n",
        " 2: 'Speed limit (50km/h)',\n",
        " 3: 'Speed limit (60km/h)',\n",
        " 4: 'Speed limit (70km/h)',\n",
        " 5: 'Speed limit (80km/h)',\n",
        " 6: 'End of speed limit (80km/h)',\n",
        " 7: 'Speed limit (100km/h)',\n",
        " 8: 'Speed limit (120km/h)',\n",
        " 9: 'No passing',\n",
        " 10: 'No passing for vehicles over 3.5 metric tons',\n",
        " 11: 'Right-of-way at the next intersection',\n",
        " 12: 'Priority road',\n",
        " 13: 'Yield',\n",
        " 14: 'Stop',\n",
        " 15: 'No vehicles',\n",
        " 16: 'Vehicles over 3.5 metric tons prohibited',\n",
        " 17: 'No entry',\n",
        " 18: 'General caution',\n",
        " 19: 'Dangerous curve to the left',\n",
        " 20: 'Dangerous curve to the right',\n",
        " 21: 'Double curve',\n",
        " 22: 'Bumpy road',\n",
        " 23: 'Slippery road',\n",
        " 24: 'Road narrows on the right',\n",
        " 25: 'Road work',\n",
        " 26: 'Traffic signals',\n",
        " 27: 'Pedestrians',\n",
        " 28: 'Children crossing',\n",
        " 29: 'Bicycles crossing',\n",
        " 30: 'Beware of ice/snow',\n",
        " 31: 'Wild animals crossing',\n",
        " 32: 'End of all speed and passing limits',\n",
        " 33: 'Turn right ahead',\n",
        " 34: 'Turn left ahead',\n",
        " 35: 'Ahead only',\n",
        " 36: 'Go straight or right',\n",
        " 37: 'Go straight or left',\n",
        " 38: 'Keep right',\n",
        " 39: 'Keep left',\n",
        " 40: 'Roundabout mandatory',\n",
        " 41: 'End of no passing',\n",
        " 42: 'End of no passing by vehicles over 3.5 metric tons'}"
      ],
      "execution_count": null,
      "outputs": []
    },
    {
      "cell_type": "code",
      "metadata": {
        "id": "bBAMoGSbHAY_"
      },
      "source": [
        "train_X = train_X.astype(\"float\") / 255.0\n",
        "valid_X = valid_X.astype(\"float\") / 255.0\n",
        "test_X = test_X.astype(\"float\") / 255.0"
      ],
      "execution_count": null,
      "outputs": []
    },
    {
      "cell_type": "code",
      "metadata": {
        "id": "8Yn3D0vZFWXA"
      },
      "source": [
        "from sklearn.preprocessing import LabelBinarizer\n",
        "\n",
        "lb = LabelBinarizer()\n",
        "train_y = lb.fit_transform(train_y)\n",
        "valid_y = lb.fit_transform(valid_y)"
      ],
      "execution_count": null,
      "outputs": []
    },
    {
      "cell_type": "code",
      "metadata": {
        "id": "_JHT0AcUL5sY"
      },
      "source": [
        "from tensorflow.keras.models import Model\n",
        "from tensorflow.keras.models import Sequential\n",
        "from tensorflow.keras.layers import BatchNormalization\n",
        "from tensorflow.keras.layers import AveragePooling2D\n",
        "from tensorflow.keras.layers import MaxPooling2D\n",
        "from tensorflow.keras.layers import Conv2D\n",
        "from tensorflow.keras.layers import Activation\n",
        "from tensorflow.keras.layers import Dropout\n",
        "from tensorflow.keras.layers import Flatten\n",
        "from tensorflow.keras.layers import Input\n",
        "from tensorflow.keras.layers import Dense\n",
        "from tensorflow.keras.layers import concatenate\n",
        "from tensorflow.keras.preprocessing.image import ImageDataGenerator\n",
        "from tensorflow.keras.optimizers import SGD"
      ],
      "execution_count": null,
      "outputs": []
    },
    {
      "cell_type": "code",
      "metadata": {
        "id": "YLym8eDsND3C"
      },
      "source": [
        "# Khởi tạo model\n",
        "model = Sequential()\n",
        "\n",
        "width = 32\n",
        "height = 32\n",
        "classes = 43\n",
        "\n",
        "shape = (width, height, 3)"
      ],
      "execution_count": null,
      "outputs": []
    },
    {
      "cell_type": "code",
      "metadata": {
        "id": "EJTpFt3WoEo3"
      },
      "source": [
        "model.add(Conv2D(32, (3, 3), padding=\"same\", input_shape=shape))\n",
        "model.add(Activation(\"relu\"))\n",
        "model.add(BatchNormalization())"
      ],
      "execution_count": null,
      "outputs": []
    },
    {
      "cell_type": "code",
      "metadata": {
        "id": "6QUHSQ2tpK0X"
      },
      "source": [
        "model.add(Conv2D(32, (3, 3), padding=\"same\"))\n",
        "model.add(Activation(\"relu\"))\n",
        "model.add(BatchNormalization())"
      ],
      "execution_count": null,
      "outputs": []
    },
    {
      "cell_type": "code",
      "metadata": {
        "id": "Lig0XYh0pg93"
      },
      "source": [
        "model.add(MaxPooling2D(pool_size=(2, 2)))"
      ],
      "execution_count": null,
      "outputs": []
    },
    {
      "cell_type": "code",
      "metadata": {
        "id": "4dRBvpDGqKbf"
      },
      "source": [
        "model.add(Conv2D(64, (3, 3), padding=\"same\"))\n",
        "model.add(Activation(\"relu\"))\n",
        "model.add(BatchNormalization())"
      ],
      "execution_count": null,
      "outputs": []
    },
    {
      "cell_type": "code",
      "metadata": {
        "id": "Hubwb4ttrG5d"
      },
      "source": [
        "model.add(Conv2D(64, (3, 3), padding=\"same\"))\n",
        "model.add(Activation(\"relu\"))\n",
        "model.add(BatchNormalization())"
      ],
      "execution_count": null,
      "outputs": []
    },
    {
      "cell_type": "code",
      "metadata": {
        "id": "yZeR1K0LrwIF"
      },
      "source": [
        "model.add(MaxPooling2D(pool_size=(2, 2)))"
      ],
      "execution_count": null,
      "outputs": []
    },
    {
      "cell_type": "code",
      "metadata": {
        "id": "XnalvAV4sg02"
      },
      "source": [
        "model.add(Flatten())"
      ],
      "execution_count": null,
      "outputs": []
    },
    {
      "cell_type": "code",
      "metadata": {
        "id": "NcwlZJ5PszpF"
      },
      "source": [
        "model.add(Dense(512))\n",
        "\n",
        "# Cần có hàm activation sau hàm Dense\n",
        "model.add(Activation(\"relu\"))\n",
        "model.add(BatchNormalization())"
      ],
      "execution_count": null,
      "outputs": []
    },
    {
      "cell_type": "code",
      "metadata": {
        "id": "8sp4wCMitJaU"
      },
      "source": [
        "model.add(Dense(classes))\n",
        "model.add(Activation(\"softmax\"))"
      ],
      "execution_count": null,
      "outputs": []
    },
    {
      "cell_type": "code",
      "metadata": {
        "id": "_3D4BrifoMzW",
        "colab": {
          "base_uri": "https://localhost:8080/"
        },
        "outputId": "f5c3593a-cf85-432c-dade-89367aa8a191"
      },
      "source": [
        "model.summary()"
      ],
      "execution_count": null,
      "outputs": [
        {
          "output_type": "stream",
          "text": [
            "Model: \"sequential\"\n",
            "_________________________________________________________________\n",
            "Layer (type)                 Output Shape              Param #   \n",
            "=================================================================\n",
            "conv2d (Conv2D)              (None, 32, 32, 32)        896       \n",
            "_________________________________________________________________\n",
            "activation (Activation)      (None, 32, 32, 32)        0         \n",
            "_________________________________________________________________\n",
            "batch_normalization (BatchNo (None, 32, 32, 32)        128       \n",
            "_________________________________________________________________\n",
            "conv2d_1 (Conv2D)            (None, 32, 32, 32)        9248      \n",
            "_________________________________________________________________\n",
            "activation_1 (Activation)    (None, 32, 32, 32)        0         \n",
            "_________________________________________________________________\n",
            "batch_normalization_1 (Batch (None, 32, 32, 32)        128       \n",
            "_________________________________________________________________\n",
            "max_pooling2d (MaxPooling2D) (None, 16, 16, 32)        0         \n",
            "_________________________________________________________________\n",
            "conv2d_2 (Conv2D)            (None, 16, 16, 64)        18496     \n",
            "_________________________________________________________________\n",
            "activation_2 (Activation)    (None, 16, 16, 64)        0         \n",
            "_________________________________________________________________\n",
            "batch_normalization_2 (Batch (None, 16, 16, 64)        256       \n",
            "_________________________________________________________________\n",
            "conv2d_3 (Conv2D)            (None, 16, 16, 64)        36928     \n",
            "_________________________________________________________________\n",
            "activation_3 (Activation)    (None, 16, 16, 64)        0         \n",
            "_________________________________________________________________\n",
            "batch_normalization_3 (Batch (None, 16, 16, 64)        256       \n",
            "_________________________________________________________________\n",
            "max_pooling2d_1 (MaxPooling2 (None, 8, 8, 64)          0         \n",
            "_________________________________________________________________\n",
            "flatten (Flatten)            (None, 4096)              0         \n",
            "_________________________________________________________________\n",
            "dense (Dense)                (None, 512)               2097664   \n",
            "_________________________________________________________________\n",
            "activation_4 (Activation)    (None, 512)               0         \n",
            "_________________________________________________________________\n",
            "batch_normalization_4 (Batch (None, 512)               2048      \n",
            "_________________________________________________________________\n",
            "dense_1 (Dense)              (None, 43)                22059     \n",
            "_________________________________________________________________\n",
            "activation_5 (Activation)    (None, 43)                0         \n",
            "=================================================================\n",
            "Total params: 2,188,107\n",
            "Trainable params: 2,186,699\n",
            "Non-trainable params: 1,408\n",
            "_________________________________________________________________\n"
          ],
          "name": "stdout"
        }
      ]
    },
    {
      "cell_type": "code",
      "metadata": {
        "id": "UFqyUz9KoO3J"
      },
      "source": [
        "# Làm giàu ảnh\n",
        "aug = ImageDataGenerator(rotation_range=0.18, zoom_range=0.15, width_shift_range=0.2, height_shift_range=0.2, horizontal_flip=True)\n",
        "learning_rate = 0.01\n",
        "epochs = 10\n",
        "batch_size = 64\n",
        "opt = SGD(learning_rate=learning_rate, momentum=0.9)\n",
        "\n",
        "model.compile(optimizer=opt, loss='categorical_crossentropy', metrics=['accuracy'])"
      ],
      "execution_count": null,
      "outputs": []
    },
    {
      "cell_type": "code",
      "metadata": {
        "id": "U50MmK4sNurm",
        "colab": {
          "base_uri": "https://localhost:8080/"
        },
        "outputId": "ec5cbfed-aa95-4858-be5f-fc3506a657bc"
      },
      "source": [
        "# Training\n",
        "H = model.fit_generator(aug.flow(train_X, train_y, batch_size=batch_size), validation_data=(valid_X, valid_y), \n",
        "                        steps_per_epoch=train_X.shape[0]//batch_size, epochs=epochs, verbose=1)"
      ],
      "execution_count": null,
      "outputs": [
        {
          "output_type": "stream",
          "text": [
            "WARNING:tensorflow:From <ipython-input-22-03ec743228e6>:3: Model.fit_generator (from tensorflow.python.keras.engine.training) is deprecated and will be removed in a future version.\n",
            "Instructions for updating:\n",
            "Please use Model.fit, which supports generators.\n",
            "Epoch 1/10\n",
            "543/543 [==============================] - 24s 45ms/step - loss: 2.0550 - accuracy: 0.4024 - val_loss: 1.7803 - val_accuracy: 0.4760\n",
            "Epoch 2/10\n",
            "543/543 [==============================] - 24s 44ms/step - loss: 0.9049 - accuracy: 0.6973 - val_loss: 1.2180 - val_accuracy: 0.6231\n",
            "Epoch 3/10\n",
            "543/543 [==============================] - 24s 44ms/step - loss: 0.4755 - accuracy: 0.8426 - val_loss: 0.9270 - val_accuracy: 0.7288\n",
            "Epoch 4/10\n",
            "543/543 [==============================] - 24s 44ms/step - loss: 0.2685 - accuracy: 0.9119 - val_loss: 0.9639 - val_accuracy: 0.7481\n",
            "Epoch 5/10\n",
            "543/543 [==============================] - 24s 44ms/step - loss: 0.1736 - accuracy: 0.9436 - val_loss: 0.8498 - val_accuracy: 0.8005\n",
            "Epoch 6/10\n",
            "543/543 [==============================] - 24s 44ms/step - loss: 0.1227 - accuracy: 0.9607 - val_loss: 0.7656 - val_accuracy: 0.7961\n",
            "Epoch 7/10\n",
            "543/543 [==============================] - 24s 44ms/step - loss: 0.1037 - accuracy: 0.9674 - val_loss: 0.5537 - val_accuracy: 0.8431\n",
            "Epoch 8/10\n",
            "543/543 [==============================] - 24s 44ms/step - loss: 0.0802 - accuracy: 0.9739 - val_loss: 0.5808 - val_accuracy: 0.8494\n",
            "Epoch 9/10\n",
            "543/543 [==============================] - 24s 43ms/step - loss: 0.0672 - accuracy: 0.9784 - val_loss: 0.4714 - val_accuracy: 0.8655\n",
            "Epoch 10/10\n",
            "543/543 [==============================] - 24s 44ms/step - loss: 0.0599 - accuracy: 0.9808 - val_loss: 0.5417 - val_accuracy: 0.8653\n"
          ],
          "name": "stdout"
        }
      ]
    },
    {
      "cell_type": "code",
      "metadata": {
        "id": "ah1POKO1O9yp"
      },
      "source": [
        "# Lưu model\n",
        "model.save('B2.h5') # h5 -- keras"
      ],
      "execution_count": null,
      "outputs": []
    },
    {
      "cell_type": "code",
      "metadata": {
        "id": "TCj7dmviPQ9N"
      },
      "source": [
        "# Sử dụng model có sẵn\n",
        "saved_model = tf.keras.models.load_model(data + 'B2.h5')"
      ],
      "execution_count": null,
      "outputs": []
    },
    {
      "cell_type": "code",
      "metadata": {
        "id": "3IrQsJA9PpPc"
      },
      "source": [
        "result = saved_model.predict(test_X[1:2])"
      ],
      "execution_count": null,
      "outputs": []
    },
    {
      "cell_type": "code",
      "metadata": {
        "id": "9njvtOt7QZmg"
      },
      "source": [
        "import numpy as np\n",
        "\n",
        "final = np.argmax(result)\n",
        "final = classNames[final]"
      ],
      "execution_count": null,
      "outputs": []
    },
    {
      "cell_type": "code",
      "metadata": {
        "id": "becFV3GnQjHZ",
        "colab": {
          "base_uri": "https://localhost:8080/",
          "height": 35
        },
        "outputId": "904810e0-da14-4760-b479-df1e8c0e605c"
      },
      "source": [
        "final"
      ],
      "execution_count": null,
      "outputs": [
        {
          "output_type": "execute_result",
          "data": {
            "application/vnd.google.colaboratory.intrinsic+json": {
              "type": "string"
            },
            "text/plain": [
              "'Speed limit (30km/h)'"
            ]
          },
          "metadata": {
            "tags": []
          },
          "execution_count": 28
        }
      ]
    },
    {
      "cell_type": "code",
      "metadata": {
        "id": "MGp4djw3QytA",
        "colab": {
          "base_uri": "https://localhost:8080/",
          "height": 283
        },
        "outputId": "289406b4-28bf-4873-fa03-f340b3f807af"
      },
      "source": [
        "plt.imshow(test['features'][1])"
      ],
      "execution_count": null,
      "outputs": [
        {
          "output_type": "execute_result",
          "data": {
            "text/plain": [
              "<matplotlib.image.AxesImage at 0x7efbc4607128>"
            ]
          },
          "metadata": {
            "tags": []
          },
          "execution_count": 29
        },
        {
          "output_type": "display_data",
          "data": {
            "image/png": "[encoded data removed]",
            "text/plain": [
              "<Figure size 432x288 with 1 Axes>"
            ]
          },
          "metadata": {
            "tags": [],
            "needs_background": "light"
          }
        }
      ]
    },
    {
      "cell_type": "code",
      "metadata": {
        "id": "6NKl2m1KSMih"
      },
      "source": [
        ""
      ],
      "execution_count": null,
      "outputs": []
    }
  ]
}