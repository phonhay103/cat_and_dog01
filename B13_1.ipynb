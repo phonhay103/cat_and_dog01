{
  "nbformat": 4,
  "nbformat_minor": 0,
  "metadata": {
    "colab": {
      "name": "B13_1",
      "provenance": [],
      "collapsed_sections": []
    },
    "kernelspec": {
      "name": "python3",
      "display_name": "Python 3"
    },
    "accelerator": "GPU"
  },
  "cells": [
    {
      "cell_type": "markdown",
      "metadata": {
        "id": "ED0bpKA5rITi"
      },
      "source": [
        "#### Mục tiêu: Xây dựng mô hình có độ chính xác trên tập validation khoảng 84%"
      ]
    },
    {
      "cell_type": "code",
      "metadata": {
        "id": "Ac8aY72mm-LF"
      },
      "source": [
        "import json\n",
        "import tensorflow as tf\n",
        "\n",
        "from tensorflow.keras.preprocessing.text import Tokenizer\n",
        "from tensorflow.keras.preprocessing.sequence import pad_sequences"
      ],
      "execution_count": null,
      "outputs": []
    },
    {
      "cell_type": "code",
      "metadata": {
        "id": "VaZQvC2RoudH"
      },
      "source": [
        "from tensorflow.keras.models import Sequential\n",
        "from tensorflow.keras.layers import Dense, Embedding"
      ],
      "execution_count": null,
      "outputs": []
    },
    {
      "cell_type": "code",
      "metadata": {
        "id": "GQ3LmxlVnGGr"
      },
      "source": [
        "vocab_size = 10000\n",
        "embedding_dim = 16\n",
        "max_length = 100\n",
        "trunc_type='post'\n",
        "padding_type='post'\n",
        "oov_tok = \"<OOV>\"\n",
        "training_size = 20000\n"
      ],
      "execution_count": null,
      "outputs": []
    },
    {
      "cell_type": "code",
      "metadata": {
        "id": "M3o5hNpNnLSC"
      },
      "source": [
        "!wget --no-check-certificate \\\n",
        "    https://storage.googleapis.com/laurencemoroney-blog.appspot.com/sarcasm.json \\\n",
        "    -O /tmp/sarcasm.json\n"
      ],
      "execution_count": null,
      "outputs": []
    },
    {
      "cell_type": "code",
      "metadata": {
        "id": "5iJW8S0knOwf"
      },
      "source": [
        "with open(\"/tmp/sarcasm.json\", 'r') as f:\n",
        "    datastore = json.load(f)\n",
        "\n",
        "sentences = []\n",
        "labels = []\n",
        "\n",
        "for item in datastore:\n",
        "    sentences.append(item['headline'])\n",
        "    labels.append(item['is_sarcastic'])\n",
        "\n",
        "\n",
        "import numpy as np\n",
        "labels = np.array(labels)"
      ],
      "execution_count": null,
      "outputs": []
    },
    {
      "cell_type": "code",
      "metadata": {
        "id": "ADdgfi2BnQDb"
      },
      "source": [
        "# Chia features tập train\n",
        "training_sentences = sentences[0:training_size]\n",
        "# FIXME: Chia features tập test\n",
        "test_sentences = sentences[training_size:]\n",
        "# FIXME: Chia labels tập train\n",
        "train_labels = labels[0:training_size]\n",
        "# FIXME: Chia labels tập test\n",
        "test_labels = labels[training_size:]"
      ],
      "execution_count": null,
      "outputs": []
    },
    {
      "cell_type": "code",
      "metadata": {
        "id": "QtcLlA3rnij6"
      },
      "source": [
        "# FIXME: Tạo tokenizer\n",
        "tokenizer = Tokenizer(num_words=vocab_size, oov_token=oov_tok)\n",
        "\n",
        "# FIXME: Đưa từ vào tokenizer để tạo từ điển\n",
        "\n",
        "tokenizer.fit_on_texts(training_sentences)\n",
        "\n",
        "# FIXME: Biến các câu train thành sequences\n",
        "\n",
        "training_sequences = tokenizer.texts_to_sequences(training_sentences)\n",
        "\n",
        "# FIXME: Padding cho các train sequences\n",
        "\n",
        "training_padded = pad_sequences(training_sequences, maxlen=max_length, truncating=trunc_type, padding=padding_type)\n",
        "\n",
        "# FIXME: Biến các câu test thành sequences và padding tương ứng\n",
        "\n",
        "test_sequences = tokenizer.texts_to_sequences(test_sentences)\n",
        "\n",
        "test_padded = pad_sequences(test_sequences, maxlen=max_length, truncating=trunc_type, padding=padding_type)"
      ],
      "execution_count": null,
      "outputs": []
    },
    {
      "cell_type": "code",
      "metadata": {
        "id": "TUSDCqYQooDh"
      },
      "source": [
        "# Xây dựng model\n",
        "from tensorflow.keras.layers import Flatten, GlobalAveragePooling1D\n",
        "# FIXME: Tạo model Sequential\n",
        "\n",
        "model = Sequential()\n",
        "\n",
        "# FIXME: Thêm một lớp Embedding\n",
        "\n",
        "model.add(Embedding(vocab_size, embedding_dim, input_length=max_length))\n",
        "model.add(GlobalAveragePooling1D())\n",
        "# FIXME: Thêm một lớp Dense, chú ý có activation\n",
        "model.add(Dense(10, activation='relu'))\n",
        "\n",
        "# FIXME: Thêm một lớp Dense cuối, chú ý có activation\n",
        "\n",
        "model.add(Dense(1, activation='sigmoid'))\n"
      ],
      "execution_count": null,
      "outputs": []
    },
    {
      "cell_type": "code",
      "metadata": {
        "id": "E59eZek1pdAQ"
      },
      "source": [
        "# FIXME: Compile Optimizer và Loss function\n",
        "\n",
        "model.compile(loss='binary_crossentropy', optimizer='adam', metrics=['acc'])"
      ],
      "execution_count": null,
      "outputs": []
    },
    {
      "cell_type": "code",
      "metadata": {
        "id": "pOcPg5DRprqH"
      },
      "source": [
        "# FIXME: Tiến hành training\n",
        "\n",
        "model.fit(training_padded, train_labels, epochs=20, validation_data=(test_padded, test_labels))"
      ],
      "execution_count": null,
      "outputs": []
    },
    {
      "cell_type": "code",
      "metadata": {
        "id": "he-aXqEDpzrX"
      },
      "source": [
        "# FIXME: Tiến hành dự đoán"
      ],
      "execution_count": null,
      "outputs": []
    },
    {
      "cell_type": "code",
      "metadata": {
        "id": "P_0xcZq1p1xf"
      },
      "source": [
        "test_sen = [\"Everyone seems normal until you get to know them.\"]\n",
        "\n",
        "# FIXME: Chuyển câu thành Sequences\n",
        "test_seq = tokenizer.texts_to_sequences(test_sen)\n",
        "# FIXME: padding cho câu này\n",
        "test_pad = pad_sequences(test_seq, maxlen=max_length, padding=padding_type, truncating=trunc_type)\n",
        "# FIXME: Tiến hành dự đoán\n",
        "\n",
        "model.predict(test_pad)"
      ],
      "execution_count": null,
      "outputs": []
    }
  ]
}