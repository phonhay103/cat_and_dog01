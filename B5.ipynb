{
  "nbformat": 4,
  "nbformat_minor": 0,
  "metadata": {
    "colab": {
      "name": "B5.ipynb",
      "provenance": [],
      "collapsed_sections": []
    },
    "kernelspec": {
      "name": "python3",
      "display_name": "Python 3"
    },
    "accelerator": "GPU"
  },
  "cells": [
    {
      "cell_type": "markdown",
      "metadata": {
        "id": "O2ysDzXxCn7l"
      },
      "source": [
        "### Nối Colab vô Drive "
      ]
    },
    {
      "cell_type": "code",
      "metadata": {
        "id": "Z6jXdRVg5VUx"
      },
      "source": [
        "from google.colab import drive\n",
        "drive.mount('/content/drive')"
      ],
      "execution_count": null,
      "outputs": []
    },
    {
      "cell_type": "markdown",
      "metadata": {
        "id": "WwUrX0vECubQ"
      },
      "source": [
        "### Đi đến thư mục chứa data"
      ]
    },
    {
      "cell_type": "code",
      "metadata": {
        "id": "DA-hcGY85p3C"
      },
      "source": [
        "!wget --no-check-certificate \\\n",
        "  https://storage.googleapis.com/mledu-datasets/cats_and_dogs_filtered.zip \\\n",
        "  -O ./cats_and_dogs_filtered.zip"
      ],
      "execution_count": null,
      "outputs": []
    },
    {
      "cell_type": "code",
      "metadata": {
        "id": "Aky1jK4d5tCK"
      },
      "source": [
        "main_folder = './'\n",
        "!unzip -q cats_and_dogs_filtered.zip -d $main_folder"
      ],
      "execution_count": null,
      "outputs": []
    },
    {
      "cell_type": "code",
      "metadata": {
        "id": "KDoYzXA17GaS"
      },
      "source": [
        "cd cats_and_dogs_filtered"
      ],
      "execution_count": null,
      "outputs": []
    },
    {
      "cell_type": "code",
      "metadata": {
        "id": "cmMO0PZc6LuI"
      },
      "source": [
        "train_folder = './train'"
      ],
      "execution_count": null,
      "outputs": []
    },
    {
      "cell_type": "code",
      "metadata": {
        "id": "Awv7UK_E6f83"
      },
      "source": [
        "valid_folder = './validation'"
      ],
      "execution_count": null,
      "outputs": []
    },
    {
      "cell_type": "markdown",
      "metadata": {
        "id": "gqfiRE3vDBQr"
      },
      "source": [
        "### [1] Xây dựng mô hình Deep Learning"
      ]
    },
    {
      "cell_type": "code",
      "metadata": {
        "id": "xchCSGIzDzbz"
      },
      "source": [
        "import tensorflow as tf\n",
        "from tensorflow.keras.models import Sequential\n",
        "from tensorflow.keras.layers import Conv2D, MaxPooling2D, Flatten, Dense\n",
        "from tensorflow.keras.optimizers import RMSprop\n",
        "\n",
        "model = Sequential()\n",
        "model.add(Conv2D(16, (3, 3), activation='relu', input_shape=(150, 150, 3)))\n",
        "model.add(MaxPooling2D(2, 2))\n",
        "model.add(Conv2D(32, (3, 3), activation='relu'))\n",
        "model.add(MaxPooling2D(2, 2))\n",
        "model.add(Conv2D(64, (3, 3), activation='relu'))\n",
        "model.add(MaxPooling2D(2, 2))\n",
        "model.add(Flatten())\n",
        "model.add(Dense(512, activation='relu'))\n",
        "model.add(Dense(1, activation='sigmoid'))\n",
        "\n",
        "model.compile(loss='binary_crossentropy', optimizer=RMSprop(learning_rate=0.001), metrics=['acc'])"
      ],
      "execution_count": null,
      "outputs": []
    },
    {
      "cell_type": "code",
      "metadata": {
        "id": "X5TzmGavL9ji"
      },
      "source": [
        "from tensorflow.keras.preprocessing.image import ImageDataGenerator\n",
        "\n",
        "generator_train_data = ImageDataGenerator(rescale=1/255).flow_from_directory(\n",
        "    train_folder,\n",
        "    target_size=(150, 150),\n",
        "    color_mode = 'rgb',\n",
        "    batch_size=32,\n",
        "    class_mode='binary'\n",
        ")\n",
        "generator_valid_data = ImageDataGenerator(rescale=1/255).flow_from_directory(\n",
        "    valid_folder,\n",
        "    target_size=(150, 150),\n",
        "    color_mode = 'rgb',\n",
        "    batch_size=32,\n",
        "    class_mode='binary'\n",
        ")"
      ],
      "execution_count": null,
      "outputs": []
    },
    {
      "cell_type": "markdown",
      "metadata": {
        "id": "FtmVP00mDbLG"
      },
      "source": [
        "### [2] Thực hiện training"
      ]
    },
    {
      "cell_type": "code",
      "metadata": {
        "id": "b61i-9KxFzzA"
      },
      "source": [
        "import tensorflow as tf\n",
        "\n",
        "DESIRED_ACCURACY = 0.7\n",
        "\n",
        "class myCallback(tf.keras.callbacks.Callback):\n",
        "    def on_epoch_end(self, epoch, logs={}):\n",
        "        if(logs.get('val_acc')>DESIRED_ACCURACY):\n",
        "            print(\"\\nReached 70% accuracy so cancelling training!\")\n",
        "            self.model.stop_training = True\n",
        "\n",
        "callbacks = myCallback()"
      ],
      "execution_count": null,
      "outputs": []
    },
    {
      "cell_type": "code",
      "metadata": {
        "id": "TbLLWcr7Dzuu"
      },
      "source": [
        "history = model.fit_generator(\n",
        "    # callbacks=[callbacks],\n",
        "    generator=generator_train_data,\n",
        "    steps_per_epoch=8,\n",
        "    epochs=32,\n",
        "    verbose=1,\n",
        "    validation_data=generator_valid_data,\n",
        "    validation_steps=8\n",
        ")"
      ],
      "execution_count": null,
      "outputs": []
    },
    {
      "cell_type": "markdown",
      "metadata": {
        "id": "d_iga1kDDnIF"
      },
      "source": [
        "### [3] Thực hiện load file và dự đoán"
      ]
    },
    {
      "cell_type": "code",
      "metadata": {
        "id": "MqyiEs7bD0dc"
      },
      "source": [
        "import numpy as np\n",
        "from google.colab import files\n",
        "from keras.preprocessing import image\n",
        "\n",
        "upload = files.upload()\n",
        "\n",
        "for file in upload.keys():\n",
        "    path = './' + file\n",
        "    img = image.load_img(path, target_size=(150, 150))\n",
        "    x = image.img_to_array(img) / 255\n",
        "    x = np.expand_dims(x, axis=0)\n",
        "    images = np.vstack([x])\n",
        "\n",
        "    classes = model.predict(images, batch_size=16)\n",
        "    print(classes[0])\n",
        "    if classes[0] >= 0.5:\n",
        "        print(file + ' is a cat')\n",
        "    else:\n",
        "        print(file + ' is a dog')"
      ],
      "execution_count": null,
      "outputs": []
    },
    {
      "cell_type": "markdown",
      "metadata": {
        "id": "NpKi3UIUDuZo"
      },
      "source": [
        "### Hiển thị độ chính xác của mô hình"
      ]
    },
    {
      "cell_type": "code",
      "metadata": {
        "id": "-qXTOctxDsGZ",
        "colab": {
          "base_uri": "https://localhost:8080/",
          "height": 562
        },
        "outputId": "57397043-c616-4585-c2e1-2f28c6a95ecb"
      },
      "source": [
        "import matplotlib.pyplot as plt\n",
        "\n",
        "#-----------------------------------------------------------\n",
        "# Retrieve a list of list results on training and test data\n",
        "# sets for each training epoch\n",
        "#-----------------------------------------------------------\n",
        "acc      = history.history[     'acc' ]\n",
        "val_acc  = history.history[ 'val_acc' ]\n",
        "loss     = history.history[    'loss' ]\n",
        "val_loss = history.history['val_loss' ]\n",
        "\n",
        "epochs   = range(len(acc)) # Get number of epochs\n",
        "\n",
        "#------------------------------------------------\n",
        "# Plot training and validation accuracy per epoch\n",
        "#------------------------------------------------\n",
        "plt.plot  ( epochs,     acc )\n",
        "plt.plot  ( epochs, val_acc )\n",
        "plt.title ('Training and validation accuracy')\n",
        "plt.figure()\n",
        "\n",
        "#------------------------------------------------\n",
        "# Plot training and validation loss per epoch\n",
        "#------------------------------------------------\n",
        "plt.plot  ( epochs,     loss )\n",
        "plt.plot  ( epochs, val_loss )\n",
        "plt.title ('Training and validation loss'   )"
      ],
      "execution_count": 13,
      "outputs": [
        {
          "output_type": "execute_result",
          "data": {
            "text/plain": [
              "Text(0.5, 1.0, 'Training and validation loss')"
            ]
          },
          "metadata": {
            "tags": []
          },
          "execution_count": 13
        },
        {
          "output_type": "display_data",
          "data": {
            "image/png": "[encoded data removed]",
            "text/plain": [
              "<Figure size 432x288 with 1 Axes>"
            ]
          },
          "metadata": {
            "tags": [],
            "needs_background": "light"
          }
        },
        {
          "output_type": "display_data",
          "data": {
            "image/png": "[encoded data removed]",
            "text/plain": [
              "<Figure size 432x288 with 1 Axes>"
            ]
          },
          "metadata": {
            "tags": [],
            "needs_background": "light"
          }
        }
      ]
    },
    {
      "cell_type": "code",
      "metadata": {
        "id": "OKR_97S4Qg8L"
      },
      "source": [
        ""
      ],
      "execution_count": null,
      "outputs": []
    }
  ]
}
