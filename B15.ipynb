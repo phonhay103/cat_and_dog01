{
  "nbformat": 4,
  "nbformat_minor": 0,
  "metadata": {
    "colab": {
      "name": "B15.ipynb",
      "provenance": []
    },
    "kernelspec": {
      "name": "python3",
      "display_name": "Python 3"
    },
    "accelerator": "GPU"
  },
  "cells": [
    {
      "cell_type": "code",
      "metadata": {
        "id": "JLE33nJlAksi",
        "colab": {
          "base_uri": "https://localhost:8080/"
        },
        "outputId": "5d85ee8e-8c9e-48e5-be90-0b37ad908287"
      },
      "source": [
        "!wget --no-check-certificate \\\n",
        "    https://storage.googleapis.com/protonx-cloud-storage/data.txt\n",
        "data = open('data.txt').read()"
      ],
      "execution_count": 1,
      "outputs": [
        {
          "output_type": "stream",
          "text": [
            "--2021-01-14 10:54:21--  https://storage.googleapis.com/protonx-cloud-storage/data.txt\n",
            "Resolving storage.googleapis.com (storage.googleapis.com)... 74.125.20.128, 74.125.195.128, 74.125.142.128, ...\n",
            "Connecting to storage.googleapis.com (storage.googleapis.com)|74.125.20.128|:443... connected.\n",
            "HTTP request sent, awaiting response... 200 OK\n",
            "Length: 93578 (91K) [text/plain]\n",
            "Saving to: ‘data.txt’\n",
            "\n",
            "data.txt            100%[===================>]  91.38K  --.-KB/s    in 0.001s  \n",
            "\n",
            "2021-01-14 10:54:21 (114 MB/s) - ‘data.txt’ saved [93578/93578]\n",
            "\n"
          ],
          "name": "stdout"
        }
      ]
    },
    {
      "cell_type": "code",
      "metadata": {
        "id": "D3QHseGbAoXg"
      },
      "source": [
        "corpus = data.lower().split(\"\\n\")"
      ],
      "execution_count": 2,
      "outputs": []
    },
    {
      "cell_type": "markdown",
      "metadata": {
        "id": "GOo6vZjLDPpe"
      },
      "source": [
        "## Yêu cầu: Sinh từ tiếp khi gõ bất cứ một câu nào có chiều dài bất kỳ."
      ]
    },
    {
      "cell_type": "code",
      "metadata": {
        "id": "FlGZ35k9iCYH"
      },
      "source": [
        "import tensorflow as tf\r\n",
        "from tensorflow.keras.preprocessing.text import Tokenizer\r\n",
        "from tensorflow.keras.preprocessing.sequence import pad_sequences"
      ],
      "execution_count": 3,
      "outputs": []
    },
    {
      "cell_type": "code",
      "metadata": {
        "id": "UKsfQdUaAwEA"
      },
      "source": [
        "tokenizer = Tokenizer()\n",
        "tokenizer.fit_on_texts(corpus)\n",
        "total_words = len(tokenizer.word_index)+1\n",
        "\n",
        "train_sequences = []\n",
        "train_labels = []\n",
        "for line in corpus:\n",
        "    token_list = tokenizer.texts_to_sequences([line])[0]\n",
        "    for i in range(1, len(token_list)):\n",
        "        train_sequences.append(token_list[:i])\n",
        "        train_labels.append(token_list[i])"
      ],
      "execution_count": 5,
      "outputs": []
    },
    {
      "cell_type": "markdown",
      "metadata": {
        "id": "US982AN3DhzI"
      },
      "source": [
        "### 1. Xử lý dữ liệu. Chia features, label"
      ]
    },
    {
      "cell_type": "code",
      "metadata": {
        "id": "7PBrJTe4Dnsb"
      },
      "source": [
        "max_sequence_len = max([len(line) for line in train_sequences])\r\n",
        "padded_train_sequences = pad_sequences(train_sequences, maxlen=max_sequence_len, padding='pre')\r\n",
        "train_labels = tf.keras.utils.to_categorical(train_labels, num_classes=total_words)"
      ],
      "execution_count": 6,
      "outputs": []
    },
    {
      "cell_type": "markdown",
      "metadata": {
        "id": "4zscBhCtDkwK"
      },
      "source": [
        "### 2. Xây dựng model\n",
        "#### Yêu cầu độ chính xác: 80%"
      ]
    },
    {
      "cell_type": "code",
      "metadata": {
        "id": "Ad24zMkliOI2"
      },
      "source": [
        "from tensorflow.keras.models import Sequential\r\n",
        "from tensorflow.keras.layers import Embedding, Bidirectional, Dropout, LSTM, Dense"
      ],
      "execution_count": 7,
      "outputs": []
    },
    {
      "cell_type": "code",
      "metadata": {
        "id": "18r5pRWfEqup"
      },
      "source": [
        "# Model\n",
        "model = Sequential()\n",
        "\n",
        "# Một lớp Embedding\n",
        "model.add(Embedding(total_words, 100, input_length=max_sequence_len))\n",
        "\n",
        "# Một lớp Bidirectional với cell là LSTM\n",
        "model.add(Bidirectional(LSTM(150, return_sequences=True)))\n",
        "\n",
        "# Một lớp Dropout\n",
        "model.add(Dropout(0.2))\n",
        "\n",
        "# Một lớp LSTM\n",
        "model.add(LSTM(100))\n",
        "\n",
        "# 2 lớp Dense nhận diện từ tiếp theo\n",
        "model.add(Dense(total_words//2, activation='relu', kernel_regularizer='l2'))\n",
        "model.add(Dense(total_words, activation='softmax'))\n",
        "\n",
        "# Compile\n",
        "model.compile(optimizer='adam', loss='categorical_crossentropy', metrics=['acc'])"
      ],
      "execution_count": 47,
      "outputs": []
    },
    {
      "cell_type": "code",
      "metadata": {
        "id": "1bNWIxutDmd-",
        "colab": {
          "base_uri": "https://localhost:8080/"
        },
        "outputId": "ddb66de4-61cc-45fb-a289-17956175ac65"
      },
      "source": [
        "model.summary()"
      ],
      "execution_count": 48,
      "outputs": [
        {
          "output_type": "stream",
          "text": [
            "Model: \"sequential_7\"\n",
            "_________________________________________________________________\n",
            "Layer (type)                 Output Shape              Param #   \n",
            "=================================================================\n",
            "embedding_7 (Embedding)      (None, 10, 100)           321100    \n",
            "_________________________________________________________________\n",
            "bidirectional_7 (Bidirection (None, 10, 300)           301200    \n",
            "_________________________________________________________________\n",
            "dropout_7 (Dropout)          (None, 10, 300)           0         \n",
            "_________________________________________________________________\n",
            "lstm_15 (LSTM)               (None, 100)               160400    \n",
            "_________________________________________________________________\n",
            "dense_14 (Dense)             (None, 1605)              162105    \n",
            "_________________________________________________________________\n",
            "dense_15 (Dense)             (None, 3211)              5156866   \n",
            "=================================================================\n",
            "Total params: 6,101,671\n",
            "Trainable params: 6,101,671\n",
            "Non-trainable params: 0\n",
            "_________________________________________________________________\n"
          ],
          "name": "stdout"
        }
      ]
    },
    {
      "cell_type": "code",
      "metadata": {
        "colab": {
          "base_uri": "https://localhost:8080/"
        },
        "id": "e16uXv5-iRvq",
        "outputId": "dd66e34d-705f-45c7-8e1e-abac0924ad61"
      },
      "source": [
        "history = model.fit(padded_train_sequences, train_labels, epochs=100, verbose=1)"
      ],
      "execution_count": 49,
      "outputs": [
        {
          "output_type": "stream",
          "text": [
            "Epoch 1/100\n",
            "484/484 [==============================] - 9s 11ms/step - loss: 7.3528 - acc: 0.0190\n",
            "Epoch 2/100\n",
            "484/484 [==============================] - 5s 11ms/step - loss: 6.4393 - acc: 0.0222\n",
            "Epoch 3/100\n",
            "484/484 [==============================] - 6s 12ms/step - loss: 6.3949 - acc: 0.0255\n",
            "Epoch 4/100\n",
            "484/484 [==============================] - 5s 11ms/step - loss: 6.2698 - acc: 0.0273\n",
            "Epoch 5/100\n",
            "484/484 [==============================] - 6s 12ms/step - loss: 6.1422 - acc: 0.0354\n",
            "Epoch 6/100\n",
            "484/484 [==============================] - 6s 12ms/step - loss: 6.0803 - acc: 0.0393\n",
            "Epoch 7/100\n",
            "484/484 [==============================] - 6s 12ms/step - loss: 5.9879 - acc: 0.0422\n",
            "Epoch 8/100\n",
            "484/484 [==============================] - 6s 11ms/step - loss: 5.8987 - acc: 0.0486\n",
            "Epoch 9/100\n",
            "484/484 [==============================] - 6s 11ms/step - loss: 5.8107 - acc: 0.0506\n",
            "Epoch 10/100\n",
            "484/484 [==============================] - 6s 12ms/step - loss: 5.7025 - acc: 0.0542\n",
            "Epoch 11/100\n",
            "484/484 [==============================] - 6s 11ms/step - loss: 5.5986 - acc: 0.0648\n",
            "Epoch 12/100\n",
            "484/484 [==============================] - 6s 12ms/step - loss: 5.4910 - acc: 0.0709\n",
            "Epoch 13/100\n",
            "484/484 [==============================] - 6s 12ms/step - loss: 5.3747 - acc: 0.0743\n",
            "Epoch 14/100\n",
            "484/484 [==============================] - 6s 11ms/step - loss: 5.2924 - acc: 0.0788\n",
            "Epoch 15/100\n",
            "484/484 [==============================] - 5s 11ms/step - loss: 5.1983 - acc: 0.0874\n",
            "Epoch 16/100\n",
            "484/484 [==============================] - 6s 12ms/step - loss: 5.0978 - acc: 0.0945\n",
            "Epoch 17/100\n",
            "484/484 [==============================] - 5s 11ms/step - loss: 4.9799 - acc: 0.1004\n",
            "Epoch 18/100\n",
            "484/484 [==============================] - 6s 12ms/step - loss: 4.8997 - acc: 0.1056\n",
            "Epoch 19/100\n",
            "484/484 [==============================] - 5s 11ms/step - loss: 4.7784 - acc: 0.1205\n",
            "Epoch 20/100\n",
            "484/484 [==============================] - 5s 11ms/step - loss: 4.7020 - acc: 0.1301\n",
            "Epoch 21/100\n",
            "484/484 [==============================] - 5s 11ms/step - loss: 4.5998 - acc: 0.1354\n",
            "Epoch 22/100\n",
            "484/484 [==============================] - 6s 12ms/step - loss: 4.5089 - acc: 0.1479\n",
            "Epoch 23/100\n",
            "484/484 [==============================] - 5s 11ms/step - loss: 4.4220 - acc: 0.1533\n",
            "Epoch 24/100\n",
            "484/484 [==============================] - 5s 11ms/step - loss: 4.3200 - acc: 0.1642\n",
            "Epoch 25/100\n",
            "484/484 [==============================] - 6s 12ms/step - loss: 4.2185 - acc: 0.1773\n",
            "Epoch 26/100\n",
            "484/484 [==============================] - 6s 12ms/step - loss: 4.0756 - acc: 0.1955\n",
            "Epoch 27/100\n",
            "484/484 [==============================] - 6s 12ms/step - loss: 4.0012 - acc: 0.2083\n",
            "Epoch 28/100\n",
            "484/484 [==============================] - 6s 12ms/step - loss: 3.9007 - acc: 0.2242\n",
            "Epoch 29/100\n",
            "484/484 [==============================] - 6s 12ms/step - loss: 3.8180 - acc: 0.2372\n",
            "Epoch 30/100\n",
            "484/484 [==============================] - 6s 12ms/step - loss: 3.7286 - acc: 0.2560\n",
            "Epoch 31/100\n",
            "484/484 [==============================] - 6s 12ms/step - loss: 3.6231 - acc: 0.2742\n",
            "Epoch 32/100\n",
            "484/484 [==============================] - 6s 12ms/step - loss: 3.4981 - acc: 0.3093\n",
            "Epoch 33/100\n",
            "484/484 [==============================] - 6s 12ms/step - loss: 3.4228 - acc: 0.3199\n",
            "Epoch 34/100\n",
            "484/484 [==============================] - 6s 12ms/step - loss: 3.3474 - acc: 0.3337\n",
            "Epoch 35/100\n",
            "484/484 [==============================] - 5s 11ms/step - loss: 3.2631 - acc: 0.3653\n",
            "Epoch 36/100\n",
            "484/484 [==============================] - 6s 12ms/step - loss: 3.1570 - acc: 0.3777\n",
            "Epoch 37/100\n",
            "484/484 [==============================] - 6s 12ms/step - loss: 3.1217 - acc: 0.3943\n",
            "Epoch 38/100\n",
            "484/484 [==============================] - 6s 12ms/step - loss: 3.0245 - acc: 0.4105\n",
            "Epoch 39/100\n",
            "484/484 [==============================] - 6s 11ms/step - loss: 2.9545 - acc: 0.4299\n",
            "Epoch 40/100\n",
            "484/484 [==============================] - 6s 12ms/step - loss: 2.8713 - acc: 0.4495\n",
            "Epoch 41/100\n",
            "484/484 [==============================] - 6s 11ms/step - loss: 2.8329 - acc: 0.4598\n",
            "Epoch 42/100\n",
            "484/484 [==============================] - 5s 11ms/step - loss: 2.7821 - acc: 0.4679\n",
            "Epoch 43/100\n",
            "484/484 [==============================] - 6s 12ms/step - loss: 2.6844 - acc: 0.4869\n",
            "Epoch 44/100\n",
            "484/484 [==============================] - 5s 11ms/step - loss: 2.6221 - acc: 0.5083\n",
            "Epoch 45/100\n",
            "484/484 [==============================] - 5s 11ms/step - loss: 2.5970 - acc: 0.5042\n",
            "Epoch 46/100\n",
            "484/484 [==============================] - 5s 11ms/step - loss: 2.5107 - acc: 0.5280\n",
            "Epoch 47/100\n",
            "484/484 [==============================] - 5s 11ms/step - loss: 2.4852 - acc: 0.5403\n",
            "Epoch 48/100\n",
            "484/484 [==============================] - 6s 11ms/step - loss: 2.3998 - acc: 0.5593\n",
            "Epoch 49/100\n",
            "484/484 [==============================] - 5s 11ms/step - loss: 2.3652 - acc: 0.5623\n",
            "Epoch 50/100\n",
            "484/484 [==============================] - 6s 12ms/step - loss: 2.3225 - acc: 0.5724\n",
            "Epoch 51/100\n",
            "484/484 [==============================] - 6s 12ms/step - loss: 2.2555 - acc: 0.5862\n",
            "Epoch 52/100\n",
            "484/484 [==============================] - 5s 11ms/step - loss: 2.2123 - acc: 0.5967\n",
            "Epoch 53/100\n",
            "484/484 [==============================] - 5s 11ms/step - loss: 2.1821 - acc: 0.6002\n",
            "Epoch 54/100\n",
            "484/484 [==============================] - 5s 11ms/step - loss: 2.1498 - acc: 0.6154\n",
            "Epoch 55/100\n",
            "484/484 [==============================] - 6s 11ms/step - loss: 2.0711 - acc: 0.6337\n",
            "Epoch 56/100\n",
            "484/484 [==============================] - 6s 11ms/step - loss: 2.0514 - acc: 0.6363\n",
            "Epoch 57/100\n",
            "484/484 [==============================] - 6s 12ms/step - loss: 2.0221 - acc: 0.6443\n",
            "Epoch 58/100\n",
            "484/484 [==============================] - 6s 12ms/step - loss: 1.9910 - acc: 0.6520\n",
            "Epoch 59/100\n",
            "484/484 [==============================] - 6s 12ms/step - loss: 1.9470 - acc: 0.6604\n",
            "Epoch 60/100\n",
            "484/484 [==============================] - 6s 11ms/step - loss: 1.8863 - acc: 0.6683\n",
            "Epoch 61/100\n",
            "484/484 [==============================] - 6s 12ms/step - loss: 1.8681 - acc: 0.6740\n",
            "Epoch 62/100\n",
            "484/484 [==============================] - 5s 11ms/step - loss: 1.8367 - acc: 0.6783\n",
            "Epoch 63/100\n",
            "484/484 [==============================] - 6s 12ms/step - loss: 1.8186 - acc: 0.6860\n",
            "Epoch 64/100\n",
            "484/484 [==============================] - 5s 11ms/step - loss: 1.7511 - acc: 0.6978\n",
            "Epoch 65/100\n",
            "484/484 [==============================] - 5s 11ms/step - loss: 1.7622 - acc: 0.7006\n",
            "Epoch 66/100\n",
            "484/484 [==============================] - 5s 11ms/step - loss: 1.7433 - acc: 0.6998\n",
            "Epoch 67/100\n",
            "484/484 [==============================] - 6s 12ms/step - loss: 1.6974 - acc: 0.7092\n",
            "Epoch 68/100\n",
            "484/484 [==============================] - 6s 12ms/step - loss: 1.6722 - acc: 0.7112\n",
            "Epoch 69/100\n",
            "484/484 [==============================] - 6s 12ms/step - loss: 1.6387 - acc: 0.7224\n",
            "Epoch 70/100\n",
            "484/484 [==============================] - 6s 12ms/step - loss: 1.6422 - acc: 0.7184\n",
            "Epoch 71/100\n",
            "484/484 [==============================] - 6s 11ms/step - loss: 1.5923 - acc: 0.7302\n",
            "Epoch 72/100\n",
            "484/484 [==============================] - 5s 11ms/step - loss: 1.5976 - acc: 0.7285\n",
            "Epoch 73/100\n",
            "484/484 [==============================] - 6s 12ms/step - loss: 1.5559 - acc: 0.7382\n",
            "Epoch 74/100\n",
            "484/484 [==============================] - 6s 11ms/step - loss: 1.5233 - acc: 0.7381\n",
            "Epoch 75/100\n",
            "484/484 [==============================] - 6s 11ms/step - loss: 1.5343 - acc: 0.7363\n",
            "Epoch 76/100\n",
            "484/484 [==============================] - 6s 12ms/step - loss: 1.4980 - acc: 0.7460\n",
            "Epoch 77/100\n",
            "484/484 [==============================] - 5s 11ms/step - loss: 1.4900 - acc: 0.7475\n",
            "Epoch 78/100\n",
            "484/484 [==============================] - 6s 11ms/step - loss: 1.4539 - acc: 0.7535\n",
            "Epoch 79/100\n",
            "484/484 [==============================] - 6s 11ms/step - loss: 1.4459 - acc: 0.7569\n",
            "Epoch 80/100\n",
            "484/484 [==============================] - 6s 11ms/step - loss: 1.4366 - acc: 0.7558\n",
            "Epoch 81/100\n",
            "484/484 [==============================] - 6s 12ms/step - loss: 1.3975 - acc: 0.7620\n",
            "Epoch 82/100\n",
            "484/484 [==============================] - 6s 12ms/step - loss: 1.3572 - acc: 0.7758\n",
            "Epoch 83/100\n",
            "484/484 [==============================] - 5s 11ms/step - loss: 1.3769 - acc: 0.7681\n",
            "Epoch 84/100\n",
            "484/484 [==============================] - 6s 12ms/step - loss: 1.3338 - acc: 0.7751\n",
            "Epoch 85/100\n",
            "484/484 [==============================] - 6s 11ms/step - loss: 1.3204 - acc: 0.7851\n",
            "Epoch 86/100\n",
            "484/484 [==============================] - 5s 11ms/step - loss: 1.3285 - acc: 0.7746\n",
            "Epoch 87/100\n",
            "484/484 [==============================] - 6s 12ms/step - loss: 1.3186 - acc: 0.7742\n",
            "Epoch 88/100\n",
            "484/484 [==============================] - 6s 12ms/step - loss: 1.2969 - acc: 0.7850\n",
            "Epoch 89/100\n",
            "484/484 [==============================] - 6s 12ms/step - loss: 1.2573 - acc: 0.7912\n",
            "Epoch 90/100\n",
            "484/484 [==============================] - 5s 11ms/step - loss: 1.2626 - acc: 0.7866\n",
            "Epoch 91/100\n",
            "484/484 [==============================] - 6s 11ms/step - loss: 1.2514 - acc: 0.7910\n",
            "Epoch 92/100\n",
            "484/484 [==============================] - 6s 12ms/step - loss: 1.2234 - acc: 0.7971\n",
            "Epoch 93/100\n",
            "484/484 [==============================] - 6s 12ms/step - loss: 1.2407 - acc: 0.7903\n",
            "Epoch 94/100\n",
            "484/484 [==============================] - 6s 12ms/step - loss: 1.2081 - acc: 0.7943\n",
            "Epoch 95/100\n",
            "484/484 [==============================] - 5s 11ms/step - loss: 1.2061 - acc: 0.7956\n",
            "Epoch 96/100\n",
            "484/484 [==============================] - 5s 11ms/step - loss: 1.1950 - acc: 0.8029\n",
            "Epoch 97/100\n",
            "484/484 [==============================] - 6s 12ms/step - loss: 1.1837 - acc: 0.7979\n",
            "Epoch 98/100\n",
            "484/484 [==============================] - 6s 12ms/step - loss: 1.1640 - acc: 0.8018\n",
            "Epoch 99/100\n",
            "484/484 [==============================] - 6s 12ms/step - loss: 1.1584 - acc: 0.8047\n",
            "Epoch 100/100\n",
            "484/484 [==============================] - 6s 11ms/step - loss: 1.1582 - acc: 0.8030\n"
          ],
          "name": "stdout"
        }
      ]
    },
    {
      "cell_type": "markdown",
      "metadata": {
        "id": "8heXdtslDpGU"
      },
      "source": [
        "### 3. Dự đoán 10 từ tiếp theo"
      ]
    },
    {
      "cell_type": "code",
      "metadata": {
        "id": "tnFicgjcDuqu",
        "colab": {
          "base_uri": "https://localhost:8080/"
        },
        "outputId": "423acb1f-bcab-4780-ffa5-7dfc91553558"
      },
      "source": [
        "test_seq = 'despite of wrinkles'\n",
        "# sinh ra 10 từ tiếp theo sau test_seq\n",
        "# despite of wrinkles this thy golden time to heart's sight ' must '\n",
        "\n",
        "num_words = 10\n",
        "for i in range(num_words):\n",
        "    token_list = pad_sequences([tokenizer.texts_to_sequences([test_seq])[0]], maxlen=max_sequence_len, padding='pre')\n",
        "    predicted = model.predict_classes(token_list, verbose=0)\n",
        "    output_word = tokenizer.index_word[predicted[0]]\n",
        "    test_seq += ' ' + output_word\n",
        "print(test_seq)"
      ],
      "execution_count": 50,
      "outputs": [
        {
          "output_type": "stream",
          "text": [
            "/usr/local/lib/python3.6/dist-packages/tensorflow/python/keras/engine/sequential.py:450: UserWarning: `model.predict_classes()` is deprecated and will be removed after 2021-01-01. Please use instead:* `np.argmax(model.predict(x), axis=-1)`,   if your model does multi-class classification   (e.g. if it uses a `softmax` last-layer activation).* `(model.predict(x) > 0.5).astype(\"int32\")`,   if your model does binary classification   (e.g. if it uses a `sigmoid` last-layer activation).\n",
            "  warnings.warn('`model.predict_classes()` is deprecated and '\n"
          ],
          "name": "stderr"
        },
        {
          "output_type": "stream",
          "text": [
            "despite of wrinkles this thy golden time or ever did place old lie\n"
          ],
          "name": "stdout"
        }
      ]
    },
    {
      "cell_type": "code",
      "metadata": {
        "id": "jdzp9YTBqbgM"
      },
      "source": [
        ""
      ],
      "execution_count": null,
      "outputs": []
    }
  ]
}